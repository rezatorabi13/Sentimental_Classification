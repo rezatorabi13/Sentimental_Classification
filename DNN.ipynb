{
 "cells": [
  {
   "cell_type": "markdown",
   "metadata": {},
   "source": [
    "### Text classification with Deep Neural Networks"
   ]
  },
  {
   "cell_type": "code",
   "execution_count": 235,
   "metadata": {},
   "outputs": [],
   "source": [
    "import numpy as np \n",
    "import pandas as pd\n",
    "\n",
    "import warnings\n",
    "warnings.filterwarnings(\"ignore\")"
   ]
  },
  {
   "cell_type": "code",
   "execution_count": 236,
   "metadata": {},
   "outputs": [
    {
     "data": {
      "text/html": [
       "<div>\n",
       "<style scoped>\n",
       "    .dataframe tbody tr th:only-of-type {\n",
       "        vertical-align: middle;\n",
       "    }\n",
       "\n",
       "    .dataframe tbody tr th {\n",
       "        vertical-align: top;\n",
       "    }\n",
       "\n",
       "    .dataframe thead th {\n",
       "        text-align: right;\n",
       "    }\n",
       "</style>\n",
       "<table border=\"1\" class=\"dataframe\">\n",
       "  <thead>\n",
       "    <tr style=\"text-align: right;\">\n",
       "      <th></th>\n",
       "      <th>id</th>\n",
       "      <th>review</th>\n",
       "      <th>rating</th>\n",
       "    </tr>\n",
       "  </thead>\n",
       "  <tbody>\n",
       "    <tr>\n",
       "      <th>0</th>\n",
       "      <td>0</td>\n",
       "      <td>Arrived about 10pm and check in was painless. ...</td>\n",
       "      <td>4</td>\n",
       "    </tr>\n",
       "    <tr>\n",
       "      <th>1</th>\n",
       "      <td>1</td>\n",
       "      <td>I checked in at 4pm even tough room was not re...</td>\n",
       "      <td>2</td>\n",
       "    </tr>\n",
       "    <tr>\n",
       "      <th>2</th>\n",
       "      <td>2</td>\n",
       "      <td>I chose this hotel, as it was in a good locati...</td>\n",
       "      <td>2</td>\n",
       "    </tr>\n",
       "    <tr>\n",
       "      <th>3</th>\n",
       "      <td>3</td>\n",
       "      <td>Great location, super close to shops &amp; a 10min...</td>\n",
       "      <td>4</td>\n",
       "    </tr>\n",
       "    <tr>\n",
       "      <th>4</th>\n",
       "      <td>4</td>\n",
       "      <td>I was in the Sir Adam Hotel to visit a friend....</td>\n",
       "      <td>3</td>\n",
       "    </tr>\n",
       "  </tbody>\n",
       "</table>\n",
       "</div>"
      ],
      "text/plain": [
       "   id                                             review rating\n",
       "0   0  Arrived about 10pm and check in was painless. ...      4\n",
       "1   1  I checked in at 4pm even tough room was not re...      2\n",
       "2   2  I chose this hotel, as it was in a good locati...      2\n",
       "3   3  Great location, super close to shops & a 10min...      4\n",
       "4   4  I was in the Sir Adam Hotel to visit a friend....      3"
      ]
     },
     "execution_count": 236,
     "metadata": {},
     "output_type": "execute_result"
    }
   ],
   "source": [
    "train_data=pd.read_csv('sentiment_dataset_train.csv')\n",
    "dev_data=pd.read_csv('sentiment_dataset_dev.csv') \n",
    "test_data=pd.read_csv('sentiment_dataset_test.csv') \n",
    "train_data.head()"
   ]
  },
  {
   "cell_type": "code",
   "execution_count": 237,
   "metadata": {},
   "outputs": [
    {
     "data": {
      "text/plain": [
       "array(['4', '2', '3', '1', '5',\n",
       "       'Tables not made up prior to guest seating. 2.'], dtype=object)"
      ]
     },
     "execution_count": 237,
     "metadata": {},
     "output_type": "execute_result"
    }
   ],
   "source": [
    "train_data['rating'].unique()"
   ]
  },
  {
   "cell_type": "code",
   "execution_count": 238,
   "metadata": {},
   "outputs": [
    {
     "data": {
      "text/html": [
       "<div>\n",
       "<style scoped>\n",
       "    .dataframe tbody tr th:only-of-type {\n",
       "        vertical-align: middle;\n",
       "    }\n",
       "\n",
       "    .dataframe tbody tr th {\n",
       "        vertical-align: top;\n",
       "    }\n",
       "\n",
       "    .dataframe thead th {\n",
       "        text-align: right;\n",
       "    }\n",
       "</style>\n",
       "<table border=\"1\" class=\"dataframe\">\n",
       "  <thead>\n",
       "    <tr style=\"text-align: right;\">\n",
       "      <th></th>\n",
       "      <th>id</th>\n",
       "      <th>review</th>\n",
       "      <th>rating</th>\n",
       "    </tr>\n",
       "  </thead>\n",
       "  <tbody>\n",
       "    <tr>\n",
       "      <th>30944</th>\n",
       "      <td>30944</td>\n",
       "      <td>We thought that it might be worthwhile eating ...</td>\n",
       "      <td>Tables not made up prior to guest seating. 2.</td>\n",
       "    </tr>\n",
       "  </tbody>\n",
       "</table>\n",
       "</div>"
      ],
      "text/plain": [
       "          id                                             review  \\\n",
       "30944  30944  We thought that it might be worthwhile eating ...   \n",
       "\n",
       "                                              rating  \n",
       "30944  Tables not made up prior to guest seating. 2.  "
      ]
     },
     "execution_count": 238,
     "metadata": {},
     "output_type": "execute_result"
    }
   ],
   "source": [
    "train_data[train_data['rating']=='Tables not made up prior to guest seating. 2.']"
   ]
  },
  {
   "cell_type": "markdown",
   "metadata": {},
   "source": [
    "#### In addition to rating 1,2,3,4,5, there is one data with rating 'Tables not made up prior to guest seating. 2.' that must be deleted."
   ]
  },
  {
   "cell_type": "code",
   "execution_count": 239,
   "metadata": {},
   "outputs": [],
   "source": [
    "train_data.drop(train_data.index[30944], inplace=True)"
   ]
  },
  {
   "cell_type": "code",
   "execution_count": 240,
   "metadata": {},
   "outputs": [
    {
     "data": {
      "text/plain": [
       "array(['4', '2', '3', '1', '5'], dtype=object)"
      ]
     },
     "execution_count": 240,
     "metadata": {},
     "output_type": "execute_result"
    }
   ],
   "source": [
    "#checking the labels again\n",
    "train_data['rating'].unique()"
   ]
  },
  {
   "cell_type": "code",
   "execution_count": 241,
   "metadata": {},
   "outputs": [
    {
     "data": {
      "text/plain": [
       "array([2, 4, 5, 3, 1], dtype=int64)"
      ]
     },
     "execution_count": 241,
     "metadata": {},
     "output_type": "execute_result"
    }
   ],
   "source": [
    "dev_data['rating'].unique()"
   ]
  },
  {
   "cell_type": "markdown",
   "metadata": {},
   "source": [
    "### Data spliting"
   ]
  },
  {
   "cell_type": "code",
   "execution_count": 98,
   "metadata": {},
   "outputs": [],
   "source": [
    "X_train = train_data['review']#.to_numpy()\n",
    "y_train = train_data['rating']\n",
    "X_dev = dev_data['review']#.to_numpy()\n",
    "y_dev = dev_data['rating']"
   ]
  },
  {
   "cell_type": "code",
   "execution_count": 99,
   "metadata": {},
   "outputs": [
    {
     "data": {
      "text/plain": [
       "array([[0, 0, 0, 1, 0],\n",
       "       [0, 1, 0, 0, 0],\n",
       "       [0, 1, 0, 0, 0],\n",
       "       ...,\n",
       "       [0, 0, 1, 0, 0],\n",
       "       [0, 0, 1, 0, 0],\n",
       "       [0, 0, 1, 0, 0]], dtype=uint8)"
      ]
     },
     "execution_count": 99,
     "metadata": {},
     "output_type": "execute_result"
    }
   ],
   "source": [
    "# creating dummies of target variable for train lables and converting to numpy array\n",
    "y_train = pd.get_dummies(y_train)\n",
    "y_train = np.array(y_train) \n",
    "y_train"
   ]
  },
  {
   "cell_type": "code",
   "execution_count": 100,
   "metadata": {},
   "outputs": [
    {
     "data": {
      "text/plain": [
       "array([[0, 1, 0, 0, 0],\n",
       "       [0, 0, 0, 1, 0],\n",
       "       [0, 0, 0, 1, 0],\n",
       "       ...,\n",
       "       [0, 1, 0, 0, 0],\n",
       "       [0, 0, 1, 0, 0],\n",
       "       [0, 0, 0, 0, 1]], dtype=uint8)"
      ]
     },
     "execution_count": 100,
     "metadata": {},
     "output_type": "execute_result"
    }
   ],
   "source": [
    "# creating dummies of target variable for dev lables and converting to numpy array\n",
    "y_dev = pd.get_dummies(y_dev)\n",
    "y_dev = np.array(y_dev)\n",
    "y_dev"
   ]
  },
  {
   "cell_type": "code",
   "execution_count": 101,
   "metadata": {},
   "outputs": [
    {
     "data": {
      "text/plain": [
       "0        Arrived about 10pm and check in was painless. ...\n",
       "1        I checked in at 4pm even tough room was not re...\n",
       "2        I chose this hotel, as it was in a good locati...\n",
       "3        Great location, super close to shops & a 10min...\n",
       "4        I was in the Sir Adam Hotel to visit a friend....\n",
       "                               ...                        \n",
       "35000    Paris is always welcome city, but this time th...\n",
       "35001    Beautiful place very clean and welcoming irini...\n",
       "35002    The hotel is ok considering the price we paid....\n",
       "35003    First your stuck if you miss last tram at midn...\n",
       "35004    The staff was very nice. The room was fine - n...\n",
       "Name: review, Length: 35004, dtype: object"
      ]
     },
     "execution_count": 101,
     "metadata": {},
     "output_type": "execute_result"
    }
   ],
   "source": [
    "X_train"
   ]
  },
  {
   "cell_type": "code",
   "execution_count": 102,
   "metadata": {},
   "outputs": [
    {
     "data": {
      "text/plain": [
       "\"Arrived about 10pm and check in was painless.   The only downside to this hotel is if you are looking for a city centre location. If you don't mind some walking and want to be out of the noise of the city then this place is ideal.   Hotel has a bar and restaurant, decent size gym and roof terrace with sun loungers.   The rooms are a good size, especially when traveling with a large teenager. Good sized lounge with double sofa bed, kitchen area and dining table. Main bedroom is a good size with double wardrobes and safe. Shower room is well sized with plenty of towels, good supply of toiletries, and hairdryer.   Fridge comes stocked with bottles of water to get you started and you can get more at the hotel bar  A 5 minute walk takes you to Marina metro station and your access to…\""
      ]
     },
     "execution_count": 102,
     "metadata": {},
     "output_type": "execute_result"
    }
   ],
   "source": [
    "#A sample data\n",
    "X_train[0]"
   ]
  },
  {
   "cell_type": "markdown",
   "metadata": {},
   "source": [
    "### Cleaning the text"
   ]
  },
  {
   "cell_type": "code",
   "execution_count": 103,
   "metadata": {},
   "outputs": [
    {
     "data": {
      "text/plain": [
       "0    arrived pm check painless downside hotel looki...\n",
       "1    checked pm even tough room ready staff busy mo...\n",
       "2    chose hotel good location room bath spa availa...\n",
       "3    great location super close shops min walk main...\n",
       "4    sir adam hotel visit friend enjoyed time bar d...\n",
       "Name: review, dtype: object"
      ]
     },
     "execution_count": 103,
     "metadata": {},
     "output_type": "execute_result"
    }
   ],
   "source": [
    "#For train data\n",
    "import re\n",
    "from nltk.corpus import stopwords\n",
    "\n",
    "stopwords_eng = set(stopwords.words(\"english\"))\n",
    "\n",
    "def clean_text(text):\n",
    "    text = text.lower() # convert to lowercase\n",
    "    text = re.sub(\"[^a-z]\", \" \", text)\n",
    "    words = [word for word in text.split() if word not in stopwords_eng]\n",
    "    text = \" \".join(words)\n",
    "    return text\n",
    "\n",
    "X_train = X_train.map(clean_text)\n",
    "X_train.head()"
   ]
  },
  {
   "cell_type": "code",
   "execution_count": 104,
   "metadata": {},
   "outputs": [
    {
     "data": {
      "text/plain": [
       "'arrived pm check painless downside hotel looking city centre location mind walking want noise city place ideal hotel bar restaurant decent size gym roof terrace sun loungers rooms good size especially traveling large teenager good sized lounge double sofa bed kitchen area dining table main bedroom good size double wardrobes safe shower room well sized plenty towels good supply toiletries hairdryer fridge comes stocked bottles water get started get hotel bar minute walk takes marina metro station access'"
      ]
     },
     "execution_count": 104,
     "metadata": {},
     "output_type": "execute_result"
    }
   ],
   "source": [
    "X_train[0]"
   ]
  },
  {
   "cell_type": "code",
   "execution_count": 105,
   "metadata": {},
   "outputs": [
    {
     "data": {
      "text/plain": [
       "0    hotel position good center town hotel services...\n",
       "1    big room comfortable clean next underground fa...\n",
       "2    hotel located near kurf rstendamm quiet side s...\n",
       "3    booking rooms made booking accor website le cl...\n",
       "4    excellent hotel fantastic swimming pool warm w...\n",
       "Name: review, dtype: object"
      ]
     },
     "execution_count": 105,
     "metadata": {},
     "output_type": "execute_result"
    }
   ],
   "source": [
    "X_dev = X_dev.map(clean_text)\n",
    "X_dev.head()"
   ]
  },
  {
   "cell_type": "code",
   "execution_count": 106,
   "metadata": {},
   "outputs": [],
   "source": [
    "from keras.preprocessing.text import Tokenizer"
   ]
  },
  {
   "cell_type": "code",
   "execution_count": 107,
   "metadata": {},
   "outputs": [
    {
     "data": {
      "text/plain": [
       "0    [87, 148, 30, 1043, 1, 201, 57, 252, 8, 671, 9...\n",
       "1    [147, 148, 31, 2527, 2, 269, 3, 321, 468, 378,...\n",
       "2    [532, 1, 4, 8, 2, 376, 369, 142, 87, 1, 148, 1...\n",
       "3    [11, 8, 277, 43, 307, 325, 35, 149, 186, 66, 3...\n",
       "4    [2973, 1, 175, 556, 267, 24, 42, 239, 486, 5, ...\n",
       "dtype: object"
      ]
     },
     "execution_count": 107,
     "metadata": {},
     "output_type": "execute_result"
    }
   ],
   "source": [
    "num_words = 6000\n",
    "tokenizer = Tokenizer(num_words=num_words)\n",
    "\n",
    "tokenizer.fit_on_texts(X_train)\n",
    "\n",
    "X_train_seq = pd.Series(tokenizer.texts_to_sequences(X_train))\n",
    "X_train_seq.head()"
   ]
  },
  {
   "cell_type": "code",
   "execution_count": 108,
   "metadata": {},
   "outputs": [
    {
     "data": {
      "text/plain": [
       "76"
      ]
     },
     "execution_count": 108,
     "metadata": {},
     "output_type": "execute_result"
    }
   ],
   "source": [
    "len(X_train_seq[0])"
   ]
  },
  {
   "cell_type": "code",
   "execution_count": 109,
   "metadata": {},
   "outputs": [
    {
     "data": {
      "text/plain": [
       "0    [1, 1142, 4, 284, 298, 1, 548, 3025, 2020, 224...\n",
       "1    [102, 2, 39, 13, 49, 679, 1434, 30, 398, 284, ...\n",
       "2    [1, 82, 116, 2680, 2835, 97, 190, 91, 102, 39,...\n",
       "3    [195, 5, 84, 195, 1777, 462, 1155, 472, 3049, ...\n",
       "4    [62, 1, 300, 614, 51, 317, 402, 11, 571, 20, 3...\n",
       "dtype: object"
      ]
     },
     "execution_count": 109,
     "metadata": {},
     "output_type": "execute_result"
    }
   ],
   "source": [
    "tokenizer.fit_on_texts(X_dev)\n",
    "\n",
    "X_dev_seq = pd.Series(tokenizer.texts_to_sequences(X_dev))\n",
    "X_dev_seq.head()"
   ]
  },
  {
   "cell_type": "code",
   "execution_count": 110,
   "metadata": {},
   "outputs": [
    {
     "data": {
      "text/plain": [
       "27"
      ]
     },
     "execution_count": 110,
     "metadata": {},
     "output_type": "execute_result"
    }
   ],
   "source": [
    "len(X_dev_seq[0])"
   ]
  },
  {
   "cell_type": "markdown",
   "metadata": {},
   "source": [
    "### A quick view to the distribution of reveiw word's lenghts in the data"
   ]
  },
  {
   "cell_type": "code",
   "execution_count": 111,
   "metadata": {},
   "outputs": [
    {
     "name": "stdout",
     "output_type": "stream",
     "text": [
      "Review length: \n",
      "Mean 46.77 words (19.913302)\n"
     ]
    },
    {
     "data": {
      "image/png": "[encoded data removed]",
      "text/plain": [
       "<Figure size 432x288 with 1 Axes>"
      ]
     },
     "metadata": {
      "needs_background": "light"
     },
     "output_type": "display_data"
    }
   ],
   "source": [
    "# Summarize review length\n",
    "import matplotlib.pyplot as plt\n",
    "print(\"Review length: \")\n",
    "result = [len(x) for x in X_train_seq]\n",
    "print(\"Mean %.2f words (%f)\" % (np.mean(result), np.std(result)))\n",
    "# plot review length\n",
    "plt.boxplot(result)\n",
    "plt.show()"
   ]
  },
  {
   "cell_type": "markdown",
   "metadata": {},
   "source": [
    "#### So, maxlen=130 would be a good estimation"
   ]
  },
  {
   "cell_type": "code",
   "execution_count": 112,
   "metadata": {},
   "outputs": [],
   "source": [
    "from keras.preprocessing.sequence import pad_sequences\n",
    "\n",
    "X_train_pad = pad_sequences(X_train_seq, maxlen=130)"
   ]
  },
  {
   "cell_type": "code",
   "execution_count": 113,
   "metadata": {},
   "outputs": [
    {
     "data": {
      "text/plain": [
       "(35004, 130)"
      ]
     },
     "execution_count": 113,
     "metadata": {},
     "output_type": "execute_result"
    }
   ],
   "source": [
    "X_train_pad.shape"
   ]
  },
  {
   "cell_type": "code",
   "execution_count": 114,
   "metadata": {},
   "outputs": [],
   "source": [
    "X_dev_pad = pad_sequences(X_dev_seq, maxlen=130)"
   ]
  },
  {
   "cell_type": "code",
   "execution_count": 115,
   "metadata": {},
   "outputs": [
    {
     "data": {
      "text/plain": [
       "(7499, 130)"
      ]
     },
     "execution_count": 115,
     "metadata": {},
     "output_type": "execute_result"
    }
   ],
   "source": [
    "X_dev_pad.shape"
   ]
  },
  {
   "cell_type": "markdown",
   "metadata": {},
   "source": [
    "### Standardize the data for getting better results"
   ]
  },
  {
   "cell_type": "code",
   "execution_count": 116,
   "metadata": {},
   "outputs": [],
   "source": [
    "from sklearn.preprocessing import StandardScaler"
   ]
  },
  {
   "cell_type": "code",
   "execution_count": 117,
   "metadata": {},
   "outputs": [
    {
     "data": {
      "text/plain": [
       "StandardScaler()"
      ]
     },
     "execution_count": 117,
     "metadata": {},
     "output_type": "execute_result"
    }
   ],
   "source": [
    "scaler = StandardScaler()\n",
    "scaler.fit(X_train_pad)"
   ]
  },
  {
   "cell_type": "code",
   "execution_count": 118,
   "metadata": {},
   "outputs": [
    {
     "data": {
      "text/plain": [
       "(35004, 130)"
      ]
     },
     "execution_count": 118,
     "metadata": {},
     "output_type": "execute_result"
    }
   ],
   "source": [
    "X_train_pad = scaler.transform(X_train_pad)\n",
    "X_train_pad.shape"
   ]
  },
  {
   "cell_type": "code",
   "execution_count": 120,
   "metadata": {},
   "outputs": [
    {
     "data": {
      "text/plain": [
       "StandardScaler()"
      ]
     },
     "execution_count": 120,
     "metadata": {},
     "output_type": "execute_result"
    }
   ],
   "source": [
    "scaler.fit(X_dev_pad)"
   ]
  },
  {
   "cell_type": "code",
   "execution_count": 121,
   "metadata": {},
   "outputs": [
    {
     "data": {
      "text/plain": [
       "(7499, 130)"
      ]
     },
     "execution_count": 121,
     "metadata": {},
     "output_type": "execute_result"
    }
   ],
   "source": [
    "X_dev_pad = scaler.transform(X_dev_pad)\n",
    "X_dev_pad.shape"
   ]
  },
  {
   "cell_type": "markdown",
   "metadata": {},
   "source": [
    "### Training the network"
   ]
  },
  {
   "cell_type": "code",
   "execution_count": 231,
   "metadata": {},
   "outputs": [
    {
     "name": "stdout",
     "output_type": "stream",
     "text": [
      "Model: \"sequential_56\"\n",
      "_________________________________________________________________\n",
      "Layer (type)                 Output Shape              Param #   \n",
      "=================================================================\n",
      "embedding_49 (Embedding)     (None, 130, 32)           192000    \n",
      "_________________________________________________________________\n",
      "flatten_17 (Flatten)         (None, 4160)              0         \n",
      "_________________________________________________________________\n",
      "dense_77 (Dense)             (None, 64)                266304    \n",
      "_________________________________________________________________\n",
      "dropout_68 (Dropout)         (None, 64)                0         \n",
      "_________________________________________________________________\n",
      "dense_78 (Dense)             (None, 64)                4160      \n",
      "_________________________________________________________________\n",
      "dropout_69 (Dropout)         (None, 64)                0         \n",
      "_________________________________________________________________\n",
      "dense_79 (Dense)             (None, 5)                 325       \n",
      "=================================================================\n",
      "Total params: 462,789\n",
      "Trainable params: 462,789\n",
      "Non-trainable params: 0\n",
      "_________________________________________________________________\n"
     ]
    }
   ],
   "source": [
    "from keras.models import Sequential\n",
    "from keras.layers import Embedding, LSTM, Dense, GlobalMaxPool1D, Dropout,Conv1D, MaxPooling1D,Flatten, Activation\n",
    "from keras import optimizers\n",
    "\n",
    "from keras.regularizers import l2  #for weight regularization\n",
    "from keras.constraints import max_norm  #for weight constraint\n",
    "\n",
    "model = Sequential()\n",
    "\n",
    "model.add(Embedding(input_dim=num_words, output_dim=32, input_length=130)) #input_length=130\n",
    "#model.add(LSTM(128, return_sequences=False))\n",
    "#model.add(LSTM(64, return_sequences=True, kernel_regularizer=l2(0.0001), recurrent_regularizer=l2(0.000001), bias_regularizer=l2(0.000001)))  #Weight regularization\n",
    "#model.add(Dropout(0.3))\n",
    "#model.add(GlobalMaxPool1D())\n",
    "#model.add(Dropout(0.3))\n",
    "model.add(Flatten())\n",
    "model.add(Dense(64, activation='relu'))\n",
    "model.add(Dropout(0.2))\n",
    "model.add(Dense(64, activation='relu'))\n",
    "model.add(Dropout(0.2))\n",
    "#model.add(Dense(16, activation='relu'))\n",
    "#model.add(Dropout(0.2))\n",
    "model.add(Dense(5, activation='softmax'))\n",
    "\n",
    "model.summary()"
   ]
  },
  {
   "cell_type": "code",
   "execution_count": 232,
   "metadata": {},
   "outputs": [],
   "source": [
    "optimizers.Adam(lr=0.00001, beta_1=0.9, beta_2=0.999, epsilon=None, decay=0, amsgrad=False)\n",
    "model.compile(loss=\"categorical_crossentropy\", optimizer='adam', metrics=['accuracy'])"
   ]
  },
  {
   "cell_type": "code",
   "execution_count": 234,
   "metadata": {},
   "outputs": [
    {
     "name": "stdout",
     "output_type": "stream",
     "text": [
      "Train on 35004 samples, validate on 7499 samples\n",
      "Epoch 1/300\n",
      "35004/35004 [==============================] - 3s 98us/step - loss: 1.5783 - accuracy: 0.2468 - val_loss: 1.5578 - val_accuracy: 0.2652\n",
      "Epoch 2/300\n",
      "35004/35004 [==============================] - 2s 68us/step - loss: 1.5574 - accuracy: 0.2692 - val_loss: 1.5547 - val_accuracy: 0.2734\n",
      "Epoch 3/300\n",
      "35004/35004 [==============================] - 2s 67us/step - loss: 1.5505 - accuracy: 0.2759 - val_loss: 1.5637 - val_accuracy: 0.2720\n",
      "Epoch 4/300\n",
      "35004/35004 [==============================] - 2s 67us/step - loss: 1.5408 - accuracy: 0.2880 - val_loss: 1.5628 - val_accuracy: 0.2714\n",
      "Epoch 5/300\n",
      "35004/35004 [==============================] - 2s 68us/step - loss: 1.5269 - accuracy: 0.2990 - val_loss: 1.5683 - val_accuracy: 0.2686\n",
      "Epoch 6/300\n",
      "35004/35004 [==============================] - 2s 68us/step - loss: 1.5021 - accuracy: 0.3212 - val_loss: 1.5888 - val_accuracy: 0.2654\n",
      "Epoch 7/300\n",
      "35004/35004 [==============================] - 2s 68us/step - loss: 1.4765 - accuracy: 0.3338 - val_loss: 1.5938 - val_accuracy: 0.2636\n",
      "Epoch 8/300\n",
      "35004/35004 [==============================] - 2s 67us/step - loss: 1.4474 - accuracy: 0.3556 - val_loss: 1.6320 - val_accuracy: 0.2576\n",
      "Epoch 9/300\n",
      "35004/35004 [==============================] - 2s 68us/step - loss: 1.4198 - accuracy: 0.3725 - val_loss: 1.6709 - val_accuracy: 0.2552\n",
      "Epoch 10/300\n",
      "35004/35004 [==============================] - 2s 67us/step - loss: 1.3959 - accuracy: 0.3827 - val_loss: 1.6812 - val_accuracy: 0.2582\n",
      "Epoch 11/300\n",
      "35004/35004 [==============================] - 2s 67us/step - loss: 1.3688 - accuracy: 0.3969 - val_loss: 1.7522 - val_accuracy: 0.2572\n",
      "Epoch 12/300\n",
      "35004/35004 [==============================] - 2s 67us/step - loss: 1.3511 - accuracy: 0.4084 - val_loss: 1.7741 - val_accuracy: 0.2578\n",
      "Epoch 13/300\n",
      "35004/35004 [==============================] - 2s 67us/step - loss: 1.3292 - accuracy: 0.4152 - val_loss: 1.8339 - val_accuracy: 0.2546\n",
      "Epoch 14/300\n",
      "35004/35004 [==============================] - 2s 68us/step - loss: 1.3145 - accuracy: 0.4244 - val_loss: 1.8300 - val_accuracy: 0.2515\n",
      "Epoch 15/300\n",
      "35004/35004 [==============================] - 2s 68us/step - loss: 1.2975 - accuracy: 0.4334 - val_loss: 1.8181 - val_accuracy: 0.2572\n",
      "Epoch 16/300\n",
      "35004/35004 [==============================] - 2s 68us/step - loss: 1.2822 - accuracy: 0.4386 - val_loss: 1.9229 - val_accuracy: 0.2551\n",
      "Epoch 17/300\n",
      "35004/35004 [==============================] - 2s 67us/step - loss: 1.2678 - accuracy: 0.4482 - val_loss: 1.9556 - val_accuracy: 0.2532\n",
      "Epoch 18/300\n",
      "35004/35004 [==============================] - 2s 68us/step - loss: 1.2606 - accuracy: 0.4510 - val_loss: 1.9459 - val_accuracy: 0.2580\n",
      "Epoch 19/300\n",
      "35004/35004 [==============================] - 2s 68us/step - loss: 1.2486 - accuracy: 0.4551 - val_loss: 2.0146 - val_accuracy: 0.2543\n",
      "Epoch 20/300\n",
      "35004/35004 [==============================] - 2s 67us/step - loss: 1.2367 - accuracy: 0.4585 - val_loss: 2.1057 - val_accuracy: 0.2535\n",
      "Epoch 21/300\n",
      "35004/35004 [==============================] - 2s 69us/step - loss: 1.2313 - accuracy: 0.4647 - val_loss: 2.0208 - val_accuracy: 0.2504\n",
      "Epoch 22/300\n",
      "35004/35004 [==============================] - 2s 69us/step - loss: 1.2253 - accuracy: 0.4659 - val_loss: 2.0806 - val_accuracy: 0.2540\n",
      "Epoch 23/300\n",
      "35004/35004 [==============================] - 2s 69us/step - loss: 1.2113 - accuracy: 0.4741 - val_loss: 2.1109 - val_accuracy: 0.2539\n",
      "Epoch 24/300\n",
      "35004/35004 [==============================] - 2s 70us/step - loss: 1.2121 - accuracy: 0.4691 - val_loss: 2.1526 - val_accuracy: 0.2546\n",
      "Epoch 25/300\n",
      "35004/35004 [==============================] - 2s 71us/step - loss: 1.2034 - accuracy: 0.4780 - val_loss: 2.2055 - val_accuracy: 0.2528\n",
      "Epoch 26/300\n",
      "35004/35004 [==============================] - 2s 71us/step - loss: 1.1935 - accuracy: 0.4787 - val_loss: 2.1973 - val_accuracy: 0.2542\n",
      "Epoch 27/300\n",
      "35004/35004 [==============================] - 3s 72us/step - loss: 1.1913 - accuracy: 0.4832 - val_loss: 2.2273 - val_accuracy: 0.2539\n",
      "Epoch 28/300\n",
      "35004/35004 [==============================] - 3s 71us/step - loss: 1.1848 - accuracy: 0.4863 - val_loss: 2.2573 - val_accuracy: 0.2599\n",
      "Epoch 29/300\n",
      "35004/35004 [==============================] - 2s 70us/step - loss: 1.1793 - accuracy: 0.4851 - val_loss: 2.2837 - val_accuracy: 0.2524\n",
      "Epoch 30/300\n",
      "35004/35004 [==============================] - 3s 75us/step - loss: 1.1713 - accuracy: 0.4895 - val_loss: 2.4249 - val_accuracy: 0.2552\n",
      "Epoch 31/300\n",
      "35004/35004 [==============================] - 3s 81us/step - loss: 1.1688 - accuracy: 0.4917 - val_loss: 2.3646 - val_accuracy: 0.2502\n",
      "Epoch 32/300\n",
      "35004/35004 [==============================] - 3s 82us/step - loss: 1.1651 - accuracy: 0.4934 - val_loss: 2.3735 - val_accuracy: 0.2522\n",
      "Epoch 33/300\n",
      "35004/35004 [==============================] - 3s 84us/step - loss: 1.1594 - accuracy: 0.4947 - val_loss: 2.3800 - val_accuracy: 0.2484\n",
      "Epoch 34/300\n",
      "35004/35004 [==============================] - 3s 76us/step - loss: 1.1554 - accuracy: 0.4976 - val_loss: 2.4074 - val_accuracy: 0.2507\n",
      "Epoch 35/300\n",
      "35004/35004 [==============================] - 2s 70us/step - loss: 1.1501 - accuracy: 0.5011 - val_loss: 2.4906 - val_accuracy: 0.2510\n",
      "Epoch 36/300\n",
      "35004/35004 [==============================] - 2s 70us/step - loss: 1.1464 - accuracy: 0.4993 - val_loss: 2.4746 - val_accuracy: 0.2539\n",
      "Epoch 37/300\n",
      "35004/35004 [==============================] - 2s 71us/step - loss: 1.1434 - accuracy: 0.5025 - val_loss: 2.5374 - val_accuracy: 0.2542\n",
      "Epoch 38/300\n",
      "35004/35004 [==============================] - 3s 72us/step - loss: 1.1423 - accuracy: 0.5030 - val_loss: 2.6000 - val_accuracy: 0.2550\n",
      "Epoch 39/300\n",
      "35004/35004 [==============================] - 3s 72us/step - loss: 1.1370 - accuracy: 0.5030 - val_loss: 2.5866 - val_accuracy: 0.2514\n",
      "Epoch 40/300\n",
      "35004/35004 [==============================] - 3s 73us/step - loss: 1.1322 - accuracy: 0.5053 - val_loss: 2.5791 - val_accuracy: 0.2490\n",
      "Epoch 41/300\n",
      "35004/35004 [==============================] - 3s 73us/step - loss: 1.1345 - accuracy: 0.5066 - val_loss: 2.6879 - val_accuracy: 0.2506\n",
      "Epoch 42/300\n",
      "35004/35004 [==============================] - 3s 74us/step - loss: 1.1342 - accuracy: 0.5055 - val_loss: 2.6942 - val_accuracy: 0.2539\n",
      "Epoch 43/300\n",
      "35004/35004 [==============================] - 3s 75us/step - loss: 1.1249 - accuracy: 0.5069 - val_loss: 2.6873 - val_accuracy: 0.2524\n",
      "Epoch 44/300\n",
      "35004/35004 [==============================] - 3s 75us/step - loss: 1.1207 - accuracy: 0.5083 - val_loss: 2.8064 - val_accuracy: 0.2487\n",
      "Epoch 45/300\n",
      "35004/35004 [==============================] - 3s 76us/step - loss: 1.1219 - accuracy: 0.5080 - val_loss: 2.7042 - val_accuracy: 0.2427\n",
      "Epoch 46/300\n",
      "35004/35004 [==============================] - 3s 74us/step - loss: 1.1185 - accuracy: 0.5100 - val_loss: 2.8361 - val_accuracy: 0.2492\n",
      "Epoch 47/300\n",
      "35004/35004 [==============================] - 3s 76us/step - loss: 1.1083 - accuracy: 0.5149 - val_loss: 2.8015 - val_accuracy: 0.2466\n",
      "Epoch 48/300\n",
      "35004/35004 [==============================] - 3s 72us/step - loss: 1.1113 - accuracy: 0.5115 - val_loss: 2.8134 - val_accuracy: 0.2508\n",
      "Epoch 49/300\n",
      "35004/35004 [==============================] - 2s 71us/step - loss: 1.1106 - accuracy: 0.5127 - val_loss: 2.7467 - val_accuracy: 0.2511\n",
      "Epoch 50/300\n",
      "35004/35004 [==============================] - 3s 72us/step - loss: 1.1062 - accuracy: 0.5123 - val_loss: 2.9905 - val_accuracy: 0.2536\n",
      "Epoch 51/300\n",
      "35004/35004 [==============================] - 3s 73us/step - loss: 1.1023 - accuracy: 0.5180 - val_loss: 2.8952 - val_accuracy: 0.2547\n",
      "Epoch 52/300\n",
      "35004/35004 [==============================] - 3s 72us/step - loss: 1.1047 - accuracy: 0.5189 - val_loss: 2.9875 - val_accuracy: 0.2535\n",
      "Epoch 53/300\n",
      "35004/35004 [==============================] - 3s 73us/step - loss: 1.0968 - accuracy: 0.5223 - val_loss: 2.9167 - val_accuracy: 0.2488\n",
      "Epoch 54/300\n",
      "35004/35004 [==============================] - 3s 73us/step - loss: 1.0976 - accuracy: 0.5201 - val_loss: 3.0259 - val_accuracy: 0.2534\n",
      "Epoch 55/300\n",
      "35004/35004 [==============================] - 3s 76us/step - loss: 1.0976 - accuracy: 0.5196 - val_loss: 3.1549 - val_accuracy: 0.2502\n"
     ]
    },
    {
     "name": "stdout",
     "output_type": "stream",
     "text": [
      "Epoch 56/300\n",
      "35004/35004 [==============================] - 3s 78us/step - loss: 1.0934 - accuracy: 0.5206 - val_loss: 3.1206 - val_accuracy: 0.2498\n",
      "Epoch 57/300\n",
      "35004/35004 [==============================] - 3s 77us/step - loss: 1.0918 - accuracy: 0.5230 - val_loss: 3.0099 - val_accuracy: 0.2499\n",
      "Epoch 58/300\n",
      "35004/35004 [==============================] - 3s 84us/step - loss: 1.0871 - accuracy: 0.5259 - val_loss: 3.1864 - val_accuracy: 0.2491\n",
      "Epoch 59/300\n",
      "35004/35004 [==============================] - 3s 76us/step - loss: 1.0860 - accuracy: 0.5235 - val_loss: 3.1199 - val_accuracy: 0.2470\n",
      "Epoch 60/300\n",
      "35004/35004 [==============================] - 3s 77us/step - loss: 1.0812 - accuracy: 0.5269 - val_loss: 3.1858 - val_accuracy: 0.2482\n",
      "Epoch 61/300\n",
      "35004/35004 [==============================] - 3s 76us/step - loss: 1.0815 - accuracy: 0.5286 - val_loss: 3.2214 - val_accuracy: 0.2508\n",
      "Epoch 62/300\n",
      "35004/35004 [==============================] - 3s 78us/step - loss: 1.0817 - accuracy: 0.5281 - val_loss: 3.3213 - val_accuracy: 0.2486\n",
      "Epoch 63/300\n",
      "35004/35004 [==============================] - 3s 76us/step - loss: 1.0786 - accuracy: 0.5265 - val_loss: 3.3056 - val_accuracy: 0.2519\n",
      "Epoch 64/300\n",
      "35004/35004 [==============================] - 3s 79us/step - loss: 1.0765 - accuracy: 0.5260 - val_loss: 3.2177 - val_accuracy: 0.2520\n",
      "Epoch 65/300\n",
      "35004/35004 [==============================] - 3s 77us/step - loss: 1.0734 - accuracy: 0.5311 - val_loss: 3.3157 - val_accuracy: 0.2548\n",
      "Epoch 66/300\n",
      "35004/35004 [==============================] - 3s 74us/step - loss: 1.0804 - accuracy: 0.5283 - val_loss: 3.4268 - val_accuracy: 0.2552\n",
      "Epoch 67/300\n",
      "35004/35004 [==============================] - 3s 73us/step - loss: 1.0711 - accuracy: 0.5292 - val_loss: 3.3509 - val_accuracy: 0.2586\n",
      "Epoch 68/300\n",
      "35004/35004 [==============================] - 3s 75us/step - loss: 1.0734 - accuracy: 0.5272 - val_loss: 3.3726 - val_accuracy: 0.2518\n",
      "Epoch 69/300\n",
      "35004/35004 [==============================] - 3s 87us/step - loss: 1.0722 - accuracy: 0.5304 - val_loss: 3.3465 - val_accuracy: 0.2543\n",
      "Epoch 70/300\n",
      "35004/35004 [==============================] - 3s 74us/step - loss: 1.0713 - accuracy: 0.5304 - val_loss: 3.3719 - val_accuracy: 0.2503\n",
      "Epoch 71/300\n",
      "35004/35004 [==============================] - 2s 68us/step - loss: 1.0663 - accuracy: 0.5331 - val_loss: 3.4384 - val_accuracy: 0.2554\n",
      "Epoch 72/300\n",
      "35004/35004 [==============================] - 2s 69us/step - loss: 1.0629 - accuracy: 0.5359 - val_loss: 3.4279 - val_accuracy: 0.2514\n",
      "Epoch 73/300\n",
      "35004/35004 [==============================] - 2s 69us/step - loss: 1.0696 - accuracy: 0.5289 - val_loss: 3.6186 - val_accuracy: 0.2495\n",
      "Epoch 74/300\n",
      "35004/35004 [==============================] - 2s 68us/step - loss: 1.0689 - accuracy: 0.5316 - val_loss: 3.6324 - val_accuracy: 0.2518\n",
      "Epoch 75/300\n",
      "35004/35004 [==============================] - 3s 71us/step - loss: 1.0653 - accuracy: 0.5323 - val_loss: 3.6114 - val_accuracy: 0.2495\n",
      "Epoch 76/300\n",
      "35004/35004 [==============================] - 2s 70us/step - loss: 1.0581 - accuracy: 0.5365 - val_loss: 3.7102 - val_accuracy: 0.2518\n",
      "Epoch 77/300\n",
      "35004/35004 [==============================] - 3s 73us/step - loss: 1.0558 - accuracy: 0.5352 - val_loss: 3.5668 - val_accuracy: 0.2488\n",
      "Epoch 78/300\n",
      "35004/35004 [==============================] - 3s 72us/step - loss: 1.0566 - accuracy: 0.5349 - val_loss: 3.7769 - val_accuracy: 0.2510\n",
      "Epoch 79/300\n",
      "35004/35004 [==============================] - 2s 69us/step - loss: 1.0599 - accuracy: 0.5384 - val_loss: 3.8544 - val_accuracy: 0.2506\n",
      "Epoch 80/300\n",
      "35004/35004 [==============================] - 2s 69us/step - loss: 1.0576 - accuracy: 0.5357 - val_loss: 3.8679 - val_accuracy: 0.2507\n",
      "Epoch 81/300\n",
      "35004/35004 [==============================] - 2s 71us/step - loss: 1.0513 - accuracy: 0.5403 - val_loss: 3.7850 - val_accuracy: 0.2507\n",
      "Epoch 82/300\n",
      "35004/35004 [==============================] - 2s 70us/step - loss: 1.0546 - accuracy: 0.5343 - val_loss: 3.9333 - val_accuracy: 0.2491\n",
      "Epoch 83/300\n",
      "35004/35004 [==============================] - 2s 68us/step - loss: 1.0521 - accuracy: 0.5370 - val_loss: 3.8386 - val_accuracy: 0.2458\n",
      "Epoch 84/300\n",
      "35004/35004 [==============================] - 2s 68us/step - loss: 1.0520 - accuracy: 0.5393 - val_loss: 3.7619 - val_accuracy: 0.2522\n",
      "Epoch 85/300\n",
      "35004/35004 [==============================] - 2s 66us/step - loss: 1.0555 - accuracy: 0.5359 - val_loss: 3.7519 - val_accuracy: 0.2472\n",
      "Epoch 86/300\n",
      "35004/35004 [==============================] - 2s 66us/step - loss: 1.0486 - accuracy: 0.5412 - val_loss: 3.8586 - val_accuracy: 0.2476\n",
      "Epoch 87/300\n",
      "35004/35004 [==============================] - 2s 67us/step - loss: 1.0445 - accuracy: 0.5398 - val_loss: 3.8836 - val_accuracy: 0.2483\n",
      "Epoch 88/300\n",
      "35004/35004 [==============================] - 2s 69us/step - loss: 1.0454 - accuracy: 0.5407 - val_loss: 4.0328 - val_accuracy: 0.2510\n",
      "Epoch 89/300\n",
      "35004/35004 [==============================] - 2s 69us/step - loss: 1.0531 - accuracy: 0.5357 - val_loss: 4.0186 - val_accuracy: 0.2495\n",
      "Epoch 90/300\n",
      "35004/35004 [==============================] - 3s 73us/step - loss: 1.0466 - accuracy: 0.5375 - val_loss: 4.0172 - val_accuracy: 0.2471\n",
      "Epoch 91/300\n",
      "35004/35004 [==============================] - 3s 72us/step - loss: 1.0363 - accuracy: 0.5442 - val_loss: 4.0656 - val_accuracy: 0.2522\n",
      "Epoch 92/300\n",
      "35004/35004 [==============================] - 2s 69us/step - loss: 1.0390 - accuracy: 0.5429 - val_loss: 3.9653 - val_accuracy: 0.2514\n",
      "Epoch 93/300\n",
      "35004/35004 [==============================] - 2s 68us/step - loss: 1.0397 - accuracy: 0.5433 - val_loss: 4.0958 - val_accuracy: 0.2512\n",
      "Epoch 94/300\n",
      "35004/35004 [==============================] - 2s 67us/step - loss: 1.0423 - accuracy: 0.5408 - val_loss: 4.1335 - val_accuracy: 0.2580\n",
      "Epoch 95/300\n",
      "35004/35004 [==============================] - 2s 68us/step - loss: 1.0406 - accuracy: 0.5427 - val_loss: 4.2389 - val_accuracy: 0.2554\n",
      "Epoch 96/300\n",
      "35004/35004 [==============================] - 2s 69us/step - loss: 1.0387 - accuracy: 0.5422 - val_loss: 4.0433 - val_accuracy: 0.2482\n",
      "Epoch 97/300\n",
      "35004/35004 [==============================] - 2s 69us/step - loss: 1.0394 - accuracy: 0.5435 - val_loss: 4.0350 - val_accuracy: 0.2560\n",
      "Epoch 98/300\n",
      "35004/35004 [==============================] - 2s 69us/step - loss: 1.0349 - accuracy: 0.5446 - val_loss: 4.1872 - val_accuracy: 0.2560\n",
      "Epoch 99/300\n",
      "35004/35004 [==============================] - 2s 68us/step - loss: 1.0344 - accuracy: 0.5451 - val_loss: 4.2867 - val_accuracy: 0.2539\n",
      "Epoch 100/300\n",
      "35004/35004 [==============================] - 2s 67us/step - loss: 1.0320 - accuracy: 0.5452 - val_loss: 4.2515 - val_accuracy: 0.2574\n",
      "Epoch 101/300\n",
      "35004/35004 [==============================] - 2s 66us/step - loss: 1.0371 - accuracy: 0.5437 - val_loss: 4.2845 - val_accuracy: 0.2562\n",
      "Epoch 102/300\n",
      "35004/35004 [==============================] - 2s 68us/step - loss: 1.0346 - accuracy: 0.5457 - val_loss: 4.1594 - val_accuracy: 0.2568\n",
      "Epoch 103/300\n",
      "35004/35004 [==============================] - 2s 69us/step - loss: 1.0330 - accuracy: 0.5442 - val_loss: 4.3062 - val_accuracy: 0.2542\n",
      "Epoch 104/300\n",
      "35004/35004 [==============================] - 2s 68us/step - loss: 1.0332 - accuracy: 0.5451 - val_loss: 4.2591 - val_accuracy: 0.2550\n",
      "Epoch 105/300\n",
      "35004/35004 [==============================] - 2s 68us/step - loss: 1.0320 - accuracy: 0.5447 - val_loss: 4.1098 - val_accuracy: 0.2554\n",
      "Epoch 106/300\n",
      "35004/35004 [==============================] - 2s 66us/step - loss: 1.0357 - accuracy: 0.5444 - val_loss: 4.3411 - val_accuracy: 0.2516\n",
      "Epoch 107/300\n",
      "35004/35004 [==============================] - 2s 66us/step - loss: 1.0277 - accuracy: 0.5483 - val_loss: 4.4799 - val_accuracy: 0.2554\n",
      "Epoch 108/300\n",
      "35004/35004 [==============================] - 2s 65us/step - loss: 1.0332 - accuracy: 0.5461 - val_loss: 4.3526 - val_accuracy: 0.2487\n",
      "Epoch 109/300\n",
      "35004/35004 [==============================] - 2s 65us/step - loss: 1.0252 - accuracy: 0.5469 - val_loss: 4.3296 - val_accuracy: 0.2547\n",
      "Epoch 110/300\n",
      "35004/35004 [==============================] - 2s 65us/step - loss: 1.0246 - accuracy: 0.5507 - val_loss: 4.4117 - val_accuracy: 0.2527\n"
     ]
    },
    {
     "name": "stdout",
     "output_type": "stream",
     "text": [
      "Epoch 111/300\n",
      "35004/35004 [==============================] - 2s 65us/step - loss: 1.0322 - accuracy: 0.5456 - val_loss: 4.3112 - val_accuracy: 0.2522\n",
      "Epoch 112/300\n",
      "35004/35004 [==============================] - 2s 64us/step - loss: 1.0211 - accuracy: 0.5482 - val_loss: 4.6646 - val_accuracy: 0.2539\n",
      "Epoch 113/300\n",
      "35004/35004 [==============================] - 2s 64us/step - loss: 1.0246 - accuracy: 0.5470 - val_loss: 4.4854 - val_accuracy: 0.2539\n",
      "Epoch 114/300\n",
      "35004/35004 [==============================] - 2s 64us/step - loss: 1.0286 - accuracy: 0.5455 - val_loss: 4.5297 - val_accuracy: 0.2539\n",
      "Epoch 115/300\n",
      "35004/35004 [==============================] - 2s 65us/step - loss: 1.0228 - accuracy: 0.5486 - val_loss: 4.5113 - val_accuracy: 0.2511\n",
      "Epoch 116/300\n",
      "35004/35004 [==============================] - 2s 64us/step - loss: 1.0257 - accuracy: 0.5490 - val_loss: 4.4996 - val_accuracy: 0.2523\n",
      "Epoch 117/300\n",
      "35004/35004 [==============================] - 2s 65us/step - loss: 1.0252 - accuracy: 0.5474 - val_loss: 4.4169 - val_accuracy: 0.2546\n",
      "Epoch 118/300\n",
      "35004/35004 [==============================] - 2s 67us/step - loss: 1.0184 - accuracy: 0.5504 - val_loss: 4.6079 - val_accuracy: 0.2526\n",
      "Epoch 119/300\n",
      "35004/35004 [==============================] - 2s 65us/step - loss: 1.0206 - accuracy: 0.5479 - val_loss: 4.4803 - val_accuracy: 0.2555\n",
      "Epoch 120/300\n",
      "35004/35004 [==============================] - 2s 66us/step - loss: 1.0203 - accuracy: 0.5482 - val_loss: 4.6945 - val_accuracy: 0.2468\n",
      "Epoch 121/300\n",
      "35004/35004 [==============================] - 2s 65us/step - loss: 1.0194 - accuracy: 0.5510 - val_loss: 4.7878 - val_accuracy: 0.2547\n",
      "Epoch 122/300\n",
      "35004/35004 [==============================] - 2s 65us/step - loss: 1.0146 - accuracy: 0.5554 - val_loss: 4.6203 - val_accuracy: 0.2508\n",
      "Epoch 123/300\n",
      "35004/35004 [==============================] - 2s 65us/step - loss: 1.0156 - accuracy: 0.5497 - val_loss: 4.5627 - val_accuracy: 0.2552\n",
      "Epoch 124/300\n",
      "35004/35004 [==============================] - 2s 63us/step - loss: 1.0209 - accuracy: 0.5486 - val_loss: 4.7729 - val_accuracy: 0.2530\n",
      "Epoch 125/300\n",
      "35004/35004 [==============================] - 2s 66us/step - loss: 1.0193 - accuracy: 0.5479 - val_loss: 4.9249 - val_accuracy: 0.2495\n",
      "Epoch 126/300\n",
      "35004/35004 [==============================] - 2s 65us/step - loss: 1.0152 - accuracy: 0.5507 - val_loss: 4.5992 - val_accuracy: 0.2494\n",
      "Epoch 127/300\n",
      "35004/35004 [==============================] - 2s 64us/step - loss: 1.0114 - accuracy: 0.5542 - val_loss: 4.7161 - val_accuracy: 0.2518\n",
      "Epoch 128/300\n",
      "35004/35004 [==============================] - 2s 64us/step - loss: 1.0120 - accuracy: 0.5543 - val_loss: 4.8883 - val_accuracy: 0.2498\n",
      "Epoch 129/300\n",
      "35004/35004 [==============================] - 2s 65us/step - loss: 1.0133 - accuracy: 0.5540 - val_loss: 4.7827 - val_accuracy: 0.2472\n",
      "Epoch 130/300\n",
      "35004/35004 [==============================] - 2s 65us/step - loss: 1.0168 - accuracy: 0.5487 - val_loss: 4.9931 - val_accuracy: 0.2526\n",
      "Epoch 131/300\n",
      "35004/35004 [==============================] - 2s 64us/step - loss: 1.0173 - accuracy: 0.5511 - val_loss: 4.9588 - val_accuracy: 0.2516\n",
      "Epoch 132/300\n",
      "35004/35004 [==============================] - 2s 65us/step - loss: 1.0157 - accuracy: 0.5497 - val_loss: 4.8348 - val_accuracy: 0.2523\n",
      "Epoch 133/300\n",
      "35004/35004 [==============================] - 2s 64us/step - loss: 1.0129 - accuracy: 0.5532 - val_loss: 4.9376 - val_accuracy: 0.2495\n",
      "Epoch 134/300\n",
      "35004/35004 [==============================] - 2s 64us/step - loss: 1.0061 - accuracy: 0.5543 - val_loss: 5.0121 - val_accuracy: 0.2490\n",
      "Epoch 135/300\n",
      "35004/35004 [==============================] - 2s 64us/step - loss: 1.0121 - accuracy: 0.5515 - val_loss: 4.9465 - val_accuracy: 0.2502\n",
      "Epoch 136/300\n",
      "35004/35004 [==============================] - 2s 65us/step - loss: 1.0077 - accuracy: 0.5549 - val_loss: 4.9347 - val_accuracy: 0.2502\n",
      "Epoch 137/300\n",
      "35004/35004 [==============================] - 2s 65us/step - loss: 1.0073 - accuracy: 0.5552 - val_loss: 5.0380 - val_accuracy: 0.2527\n",
      "Epoch 138/300\n",
      "35004/35004 [==============================] - 2s 65us/step - loss: 1.0085 - accuracy: 0.5541 - val_loss: 5.0647 - val_accuracy: 0.2522\n",
      "Epoch 139/300\n",
      "35004/35004 [==============================] - 2s 65us/step - loss: 1.0064 - accuracy: 0.5531 - val_loss: 5.1231 - val_accuracy: 0.2426\n",
      "Epoch 140/300\n",
      "35004/35004 [==============================] - 2s 66us/step - loss: 1.0042 - accuracy: 0.5534 - val_loss: 4.9872 - val_accuracy: 0.2456\n",
      "Epoch 141/300\n",
      "35004/35004 [==============================] - 2s 65us/step - loss: 1.0085 - accuracy: 0.5544 - val_loss: 5.0016 - val_accuracy: 0.2506\n",
      "Epoch 142/300\n",
      "35004/35004 [==============================] - 2s 66us/step - loss: 1.0117 - accuracy: 0.5529 - val_loss: 5.3372 - val_accuracy: 0.2526\n",
      "Epoch 143/300\n",
      "35004/35004 [==============================] - 3s 75us/step - loss: 1.0096 - accuracy: 0.5523 - val_loss: 4.9903 - val_accuracy: 0.2523\n",
      "Epoch 144/300\n",
      "35004/35004 [==============================] - 3s 73us/step - loss: 1.0039 - accuracy: 0.5561 - val_loss: 5.1753 - val_accuracy: 0.2506\n",
      "Epoch 145/300\n",
      "35004/35004 [==============================] - 3s 75us/step - loss: 1.0031 - accuracy: 0.5554 - val_loss: 5.0544 - val_accuracy: 0.2527\n",
      "Epoch 146/300\n",
      "35004/35004 [==============================] - 3s 75us/step - loss: 1.0013 - accuracy: 0.5576 - val_loss: 5.2137 - val_accuracy: 0.2500\n",
      "Epoch 147/300\n",
      "35004/35004 [==============================] - 2s 70us/step - loss: 1.0057 - accuracy: 0.5559 - val_loss: 5.1217 - val_accuracy: 0.2490\n",
      "Epoch 148/300\n",
      "35004/35004 [==============================] - 2s 69us/step - loss: 0.9986 - accuracy: 0.5616 - val_loss: 5.2100 - val_accuracy: 0.2466\n",
      "Epoch 149/300\n",
      "35004/35004 [==============================] - 2s 70us/step - loss: 1.0074 - accuracy: 0.5562 - val_loss: 5.3022 - val_accuracy: 0.2471\n",
      "Epoch 150/300\n",
      "35004/35004 [==============================] - 3s 73us/step - loss: 1.0029 - accuracy: 0.5563 - val_loss: 5.2269 - val_accuracy: 0.2488\n",
      "Epoch 151/300\n",
      "35004/35004 [==============================] - 3s 77us/step - loss: 0.9987 - accuracy: 0.5582 - val_loss: 5.2370 - val_accuracy: 0.2490\n",
      "Epoch 152/300\n",
      "35004/35004 [==============================] - 2s 66us/step - loss: 1.0010 - accuracy: 0.5557 - val_loss: 5.2903 - val_accuracy: 0.2519\n",
      "Epoch 153/300\n",
      "35004/35004 [==============================] - 2s 67us/step - loss: 1.0062 - accuracy: 0.5566 - val_loss: 5.1946 - val_accuracy: 0.2508\n",
      "Epoch 154/300\n",
      "35004/35004 [==============================] - 2s 71us/step - loss: 1.0039 - accuracy: 0.5552 - val_loss: 5.3453 - val_accuracy: 0.2515\n",
      "Epoch 155/300\n",
      "35004/35004 [==============================] - 2s 65us/step - loss: 1.0021 - accuracy: 0.5587 - val_loss: 5.3933 - val_accuracy: 0.2508\n",
      "Epoch 156/300\n",
      "35004/35004 [==============================] - 2s 65us/step - loss: 1.0002 - accuracy: 0.5567 - val_loss: 5.4129 - val_accuracy: 0.2527\n",
      "Epoch 157/300\n",
      "35004/35004 [==============================] - 2s 65us/step - loss: 0.9972 - accuracy: 0.5582 - val_loss: 5.2216 - val_accuracy: 0.2511\n",
      "Epoch 158/300\n",
      "35004/35004 [==============================] - 2s 69us/step - loss: 0.9945 - accuracy: 0.5595 - val_loss: 5.4276 - val_accuracy: 0.2496\n",
      "Epoch 159/300\n",
      "35004/35004 [==============================] - 3s 77us/step - loss: 0.9966 - accuracy: 0.5579 - val_loss: 5.3248 - val_accuracy: 0.2528\n",
      "Epoch 160/300\n",
      "35004/35004 [==============================] - 3s 72us/step - loss: 0.9967 - accuracy: 0.5602 - val_loss: 5.3958 - val_accuracy: 0.2518\n",
      "Epoch 161/300\n",
      "35004/35004 [==============================] - 3s 72us/step - loss: 1.0012 - accuracy: 0.5581 - val_loss: 5.4204 - val_accuracy: 0.2482\n",
      "Epoch 162/300\n",
      "35004/35004 [==============================] - 3s 72us/step - loss: 0.9932 - accuracy: 0.5590 - val_loss: 5.3773 - val_accuracy: 0.2514\n",
      "Epoch 163/300\n",
      "35004/35004 [==============================] - 2s 71us/step - loss: 0.9970 - accuracy: 0.5613 - val_loss: 5.5706 - val_accuracy: 0.2498\n",
      "Epoch 164/300\n",
      "35004/35004 [==============================] - 2s 71us/step - loss: 0.9919 - accuracy: 0.5602 - val_loss: 5.4740 - val_accuracy: 0.2502\n",
      "Epoch 165/300\n"
     ]
    },
    {
     "name": "stdout",
     "output_type": "stream",
     "text": [
      "35004/35004 [==============================] - 2s 71us/step - loss: 0.9961 - accuracy: 0.5570 - val_loss: 5.6303 - val_accuracy: 0.2540\n",
      "Epoch 166/300\n",
      "35004/35004 [==============================] - 2s 70us/step - loss: 0.9968 - accuracy: 0.5594 - val_loss: 5.6034 - val_accuracy: 0.2556\n",
      "Epoch 167/300\n",
      "35004/35004 [==============================] - 2s 70us/step - loss: 0.9955 - accuracy: 0.5608 - val_loss: 5.4375 - val_accuracy: 0.2503\n",
      "Epoch 168/300\n",
      "35004/35004 [==============================] - 2s 71us/step - loss: 0.9917 - accuracy: 0.5630 - val_loss: 5.6929 - val_accuracy: 0.2499\n",
      "Epoch 169/300\n",
      "35004/35004 [==============================] - 2s 71us/step - loss: 0.9975 - accuracy: 0.5573 - val_loss: 5.4534 - val_accuracy: 0.2536\n",
      "Epoch 170/300\n",
      "35004/35004 [==============================] - 3s 72us/step - loss: 0.9914 - accuracy: 0.5603 - val_loss: 5.6789 - val_accuracy: 0.2519\n",
      "Epoch 171/300\n",
      "35004/35004 [==============================] - 3s 87us/step - loss: 0.9964 - accuracy: 0.5626 - val_loss: 5.5969 - val_accuracy: 0.2504\n",
      "Epoch 172/300\n",
      "35004/35004 [==============================] - 3s 88us/step - loss: 0.9974 - accuracy: 0.5588 - val_loss: 5.6064 - val_accuracy: 0.2558\n",
      "Epoch 173/300\n",
      "35004/35004 [==============================] - 3s 83us/step - loss: 0.9942 - accuracy: 0.5607 - val_loss: 5.5590 - val_accuracy: 0.2539\n",
      "Epoch 174/300\n",
      "35004/35004 [==============================] - 3s 82us/step - loss: 0.9942 - accuracy: 0.5601 - val_loss: 5.8247 - val_accuracy: 0.2536\n",
      "Epoch 175/300\n",
      "35004/35004 [==============================] - 3s 79us/step - loss: 0.9961 - accuracy: 0.5593 - val_loss: 5.7026 - val_accuracy: 0.2488\n",
      "Epoch 176/300\n",
      "35004/35004 [==============================] - 3s 81us/step - loss: 0.9874 - accuracy: 0.5634 - val_loss: 5.7692 - val_accuracy: 0.2567\n",
      "Epoch 177/300\n",
      "35004/35004 [==============================] - 3s 77us/step - loss: 0.9831 - accuracy: 0.5640 - val_loss: 5.9537 - val_accuracy: 0.2511\n",
      "Epoch 178/300\n",
      "35004/35004 [==============================] - 2s 70us/step - loss: 0.9920 - accuracy: 0.5583 - val_loss: 5.5305 - val_accuracy: 0.2519\n",
      "Epoch 179/300\n",
      "35004/35004 [==============================] - 2s 70us/step - loss: 0.9889 - accuracy: 0.5592 - val_loss: 6.0166 - val_accuracy: 0.2587\n",
      "Epoch 180/300\n",
      "35004/35004 [==============================] - 2s 71us/step - loss: 0.9896 - accuracy: 0.5598 - val_loss: 5.6849 - val_accuracy: 0.2536\n",
      "Epoch 181/300\n",
      "35004/35004 [==============================] - 3s 72us/step - loss: 0.9921 - accuracy: 0.5590 - val_loss: 5.5656 - val_accuracy: 0.2527\n",
      "Epoch 182/300\n",
      "35004/35004 [==============================] - 3s 72us/step - loss: 0.9888 - accuracy: 0.5639 - val_loss: 5.8263 - val_accuracy: 0.2543\n",
      "Epoch 183/300\n",
      "35004/35004 [==============================] - 3s 73us/step - loss: 0.9841 - accuracy: 0.5634 - val_loss: 6.1018 - val_accuracy: 0.2536\n",
      "Epoch 184/300\n",
      "35004/35004 [==============================] - 3s 74us/step - loss: 0.9839 - accuracy: 0.5620 - val_loss: 5.9096 - val_accuracy: 0.2538\n",
      "Epoch 185/300\n",
      "35004/35004 [==============================] - 3s 78us/step - loss: 0.9885 - accuracy: 0.5638 - val_loss: 6.1796 - val_accuracy: 0.2535\n",
      "Epoch 186/300\n",
      "35004/35004 [==============================] - 3s 76us/step - loss: 0.9872 - accuracy: 0.5644 - val_loss: 5.9220 - val_accuracy: 0.2535\n",
      "Epoch 187/300\n",
      "35004/35004 [==============================] - 3s 78us/step - loss: 0.9893 - accuracy: 0.5589 - val_loss: 5.9202 - val_accuracy: 0.2500\n",
      "Epoch 188/300\n",
      "35004/35004 [==============================] - 3s 80us/step - loss: 0.9832 - accuracy: 0.5666 - val_loss: 5.9287 - val_accuracy: 0.2492\n",
      "Epoch 189/300\n",
      "35004/35004 [==============================] - 3s 80us/step - loss: 0.9842 - accuracy: 0.5637 - val_loss: 6.1062 - val_accuracy: 0.2495\n",
      "Epoch 190/300\n",
      "35004/35004 [==============================] - 3s 81us/step - loss: 0.9956 - accuracy: 0.5599 - val_loss: 6.0634 - val_accuracy: 0.2523\n",
      "Epoch 191/300\n",
      "35004/35004 [==============================] - 3s 79us/step - loss: 0.9921 - accuracy: 0.5595 - val_loss: 6.0790 - val_accuracy: 0.2496\n",
      "Epoch 192/300\n",
      "35004/35004 [==============================] - 3s 77us/step - loss: 0.9858 - accuracy: 0.5659 - val_loss: 5.9078 - val_accuracy: 0.2520\n",
      "Epoch 193/300\n",
      "35004/35004 [==============================] - 3s 75us/step - loss: 0.9876 - accuracy: 0.5653 - val_loss: 6.0029 - val_accuracy: 0.2499\n",
      "Epoch 194/300\n",
      "35004/35004 [==============================] - 3s 74us/step - loss: 0.9831 - accuracy: 0.5644 - val_loss: 6.0042 - val_accuracy: 0.2518\n",
      "Epoch 195/300\n",
      "35004/35004 [==============================] - 3s 74us/step - loss: 0.9883 - accuracy: 0.5633 - val_loss: 6.0395 - val_accuracy: 0.2487\n",
      "Epoch 196/300\n",
      "35004/35004 [==============================] - 3s 76us/step - loss: 0.9835 - accuracy: 0.5623 - val_loss: 6.0638 - val_accuracy: 0.2558\n",
      "Epoch 197/300\n",
      "35004/35004 [==============================] - 3s 73us/step - loss: 0.9790 - accuracy: 0.5650 - val_loss: 6.1106 - val_accuracy: 0.2568\n",
      "Epoch 198/300\n",
      "35004/35004 [==============================] - 3s 73us/step - loss: 0.9780 - accuracy: 0.5664 - val_loss: 6.4356 - val_accuracy: 0.2515\n",
      "Epoch 199/300\n",
      "35004/35004 [==============================] - 3s 75us/step - loss: 0.9760 - accuracy: 0.5664 - val_loss: 6.0286 - val_accuracy: 0.2536\n",
      "Epoch 200/300\n",
      "35004/35004 [==============================] - 3s 71us/step - loss: 0.9807 - accuracy: 0.5686 - val_loss: 5.9981 - val_accuracy: 0.2546\n",
      "Epoch 201/300\n",
      "35004/35004 [==============================] - 3s 72us/step - loss: 0.9809 - accuracy: 0.5656 - val_loss: 6.2647 - val_accuracy: 0.2544\n",
      "Epoch 202/300\n",
      "35004/35004 [==============================] - 3s 73us/step - loss: 0.9813 - accuracy: 0.5668 - val_loss: 6.0795 - val_accuracy: 0.2519\n",
      "Epoch 203/300\n",
      "35004/35004 [==============================] - 2s 70us/step - loss: 0.9842 - accuracy: 0.5637 - val_loss: 6.1696 - val_accuracy: 0.2548\n",
      "Epoch 204/300\n",
      "35004/35004 [==============================] - 2s 70us/step - loss: 0.9802 - accuracy: 0.5678 - val_loss: 6.3096 - val_accuracy: 0.2578\n",
      "Epoch 205/300\n",
      "35004/35004 [==============================] - 2s 71us/step - loss: 0.9856 - accuracy: 0.5646 - val_loss: 6.2773 - val_accuracy: 0.2542\n",
      "Epoch 206/300\n",
      "35004/35004 [==============================] - 2s 70us/step - loss: 0.9806 - accuracy: 0.5668 - val_loss: 6.2899 - val_accuracy: 0.2536\n",
      "Epoch 207/300\n",
      "35004/35004 [==============================] - 2s 68us/step - loss: 0.9773 - accuracy: 0.5670 - val_loss: 6.3434 - val_accuracy: 0.2584\n",
      "Epoch 208/300\n",
      "35004/35004 [==============================] - 2s 69us/step - loss: 0.9736 - accuracy: 0.5678 - val_loss: 6.3697 - val_accuracy: 0.2575\n",
      "Epoch 209/300\n",
      "35004/35004 [==============================] - 2s 69us/step - loss: 0.9753 - accuracy: 0.5664 - val_loss: 6.5154 - val_accuracy: 0.2564\n",
      "Epoch 210/300\n",
      "35004/35004 [==============================] - 2s 70us/step - loss: 0.9769 - accuracy: 0.5684 - val_loss: 6.3591 - val_accuracy: 0.2552\n",
      "Epoch 211/300\n",
      "35004/35004 [==============================] - 2s 71us/step - loss: 0.9704 - accuracy: 0.5689 - val_loss: 6.3603 - val_accuracy: 0.2580\n",
      "Epoch 212/300\n",
      "35004/35004 [==============================] - 2s 71us/step - loss: 0.9778 - accuracy: 0.5643 - val_loss: 6.3938 - val_accuracy: 0.2540\n",
      "Epoch 213/300\n",
      "35004/35004 [==============================] - 2s 71us/step - loss: 0.9775 - accuracy: 0.5664 - val_loss: 6.4943 - val_accuracy: 0.2590\n",
      "Epoch 214/300\n",
      "35004/35004 [==============================] - 3s 72us/step - loss: 0.9750 - accuracy: 0.5678 - val_loss: 6.5412 - val_accuracy: 0.2559\n",
      "Epoch 215/300\n",
      "35004/35004 [==============================] - 2s 71us/step - loss: 0.9732 - accuracy: 0.5664 - val_loss: 6.3797 - val_accuracy: 0.2583\n",
      "Epoch 216/300\n",
      "35004/35004 [==============================] - 2s 70us/step - loss: 0.9783 - accuracy: 0.5674 - val_loss: 6.5157 - val_accuracy: 0.2564\n",
      "Epoch 217/300\n",
      "35004/35004 [==============================] - 2s 71us/step - loss: 0.9784 - accuracy: 0.5654 - val_loss: 6.4434 - val_accuracy: 0.2550\n",
      "Epoch 218/300\n",
      "35004/35004 [==============================] - 2s 71us/step - loss: 0.9731 - accuracy: 0.5674 - val_loss: 6.5071 - val_accuracy: 0.2578\n",
      "Epoch 219/300\n",
      "35004/35004 [==============================] - 2s 70us/step - loss: 0.9747 - accuracy: 0.5672 - val_loss: 6.4148 - val_accuracy: 0.2519\n"
     ]
    },
    {
     "name": "stdout",
     "output_type": "stream",
     "text": [
      "Epoch 220/300\n",
      "35004/35004 [==============================] - 2s 68us/step - loss: 0.9730 - accuracy: 0.5678 - val_loss: 6.5799 - val_accuracy: 0.2524\n",
      "Epoch 221/300\n",
      "35004/35004 [==============================] - 2s 68us/step - loss: 0.9711 - accuracy: 0.5675 - val_loss: 6.5454 - val_accuracy: 0.2535\n",
      "Epoch 222/300\n",
      "35004/35004 [==============================] - 2s 68us/step - loss: 0.9845 - accuracy: 0.5638 - val_loss: 6.4883 - val_accuracy: 0.2503\n",
      "Epoch 223/300\n",
      "35004/35004 [==============================] - 2s 68us/step - loss: 0.9729 - accuracy: 0.5687 - val_loss: 6.6855 - val_accuracy: 0.2571\n",
      "Epoch 224/300\n",
      "35004/35004 [==============================] - 2s 70us/step - loss: 0.9724 - accuracy: 0.5669 - val_loss: 6.3985 - val_accuracy: 0.2566\n",
      "Epoch 225/300\n",
      "35004/35004 [==============================] - 2s 70us/step - loss: 0.9749 - accuracy: 0.5672 - val_loss: 6.6481 - val_accuracy: 0.2543\n",
      "Epoch 226/300\n",
      "35004/35004 [==============================] - 2s 71us/step - loss: 0.9707 - accuracy: 0.5671 - val_loss: 6.8386 - val_accuracy: 0.2519\n",
      "Epoch 227/300\n",
      "35004/35004 [==============================] - 2s 71us/step - loss: 0.9742 - accuracy: 0.5656 - val_loss: 6.6208 - val_accuracy: 0.2560\n",
      "Epoch 228/300\n",
      "35004/35004 [==============================] - 3s 72us/step - loss: 0.9698 - accuracy: 0.5691 - val_loss: 6.5914 - val_accuracy: 0.2546\n",
      "Epoch 229/300\n",
      "35004/35004 [==============================] - 2s 69us/step - loss: 0.9691 - accuracy: 0.5699 - val_loss: 6.7551 - val_accuracy: 0.2567\n",
      "Epoch 230/300\n",
      "35004/35004 [==============================] - 2s 67us/step - loss: 0.9748 - accuracy: 0.5683 - val_loss: 6.7611 - val_accuracy: 0.2560\n",
      "Epoch 231/300\n",
      "35004/35004 [==============================] - 2s 68us/step - loss: 0.9690 - accuracy: 0.5702 - val_loss: 6.7318 - val_accuracy: 0.2534\n",
      "Epoch 232/300\n",
      "35004/35004 [==============================] - 2s 68us/step - loss: 0.9694 - accuracy: 0.5687 - val_loss: 6.6291 - val_accuracy: 0.2464\n",
      "Epoch 233/300\n",
      "35004/35004 [==============================] - 2s 68us/step - loss: 0.9754 - accuracy: 0.5681 - val_loss: 6.6361 - val_accuracy: 0.2494\n",
      "Epoch 234/300\n",
      "35004/35004 [==============================] - 2s 69us/step - loss: 0.9764 - accuracy: 0.5645 - val_loss: 6.5664 - val_accuracy: 0.2528\n",
      "Epoch 235/300\n",
      "35004/35004 [==============================] - 2s 70us/step - loss: 0.9698 - accuracy: 0.5706 - val_loss: 6.5983 - val_accuracy: 0.2479\n",
      "Epoch 236/300\n",
      "35004/35004 [==============================] - 2s 71us/step - loss: 0.9700 - accuracy: 0.5686 - val_loss: 6.7677 - val_accuracy: 0.2506\n",
      "Epoch 237/300\n",
      "35004/35004 [==============================] - 2s 69us/step - loss: 0.9708 - accuracy: 0.5702 - val_loss: 6.7126 - val_accuracy: 0.2466\n",
      "Epoch 238/300\n",
      "35004/35004 [==============================] - 2s 69us/step - loss: 0.9680 - accuracy: 0.5716 - val_loss: 6.7630 - val_accuracy: 0.2536\n",
      "Epoch 239/300\n",
      "35004/35004 [==============================] - 2s 69us/step - loss: 0.9727 - accuracy: 0.5694 - val_loss: 6.6727 - val_accuracy: 0.2554\n",
      "Epoch 240/300\n",
      "35004/35004 [==============================] - 2s 69us/step - loss: 0.9667 - accuracy: 0.5718 - val_loss: 6.9004 - val_accuracy: 0.2527\n",
      "Epoch 241/300\n",
      "35004/35004 [==============================] - 2s 69us/step - loss: 0.9712 - accuracy: 0.5699 - val_loss: 6.7565 - val_accuracy: 0.2526\n",
      "Epoch 242/300\n",
      "35004/35004 [==============================] - 2s 70us/step - loss: 0.9672 - accuracy: 0.5716 - val_loss: 6.9168 - val_accuracy: 0.2534\n",
      "Epoch 243/300\n",
      "35004/35004 [==============================] - 2s 70us/step - loss: 0.9728 - accuracy: 0.5683 - val_loss: 6.8940 - val_accuracy: 0.2574\n",
      "Epoch 244/300\n",
      "35004/35004 [==============================] - 2s 71us/step - loss: 0.9647 - accuracy: 0.5735 - val_loss: 6.9188 - val_accuracy: 0.2516\n",
      "Epoch 245/300\n",
      "35004/35004 [==============================] - 2s 71us/step - loss: 0.9638 - accuracy: 0.5690 - val_loss: 6.9245 - val_accuracy: 0.2556\n",
      "Epoch 246/300\n",
      "35004/35004 [==============================] - 2s 69us/step - loss: 0.9721 - accuracy: 0.5713 - val_loss: 6.5431 - val_accuracy: 0.2524\n",
      "Epoch 247/300\n",
      "35004/35004 [==============================] - 2s 69us/step - loss: 0.9719 - accuracy: 0.5725 - val_loss: 6.6827 - val_accuracy: 0.2574\n",
      "Epoch 248/300\n",
      "35004/35004 [==============================] - 2s 70us/step - loss: 0.9606 - accuracy: 0.5760 - val_loss: 6.9763 - val_accuracy: 0.2540\n",
      "Epoch 249/300\n",
      "35004/35004 [==============================] - 2s 70us/step - loss: 0.9661 - accuracy: 0.5695 - val_loss: 6.8794 - val_accuracy: 0.2542\n",
      "Epoch 250/300\n",
      "35004/35004 [==============================] - 2s 71us/step - loss: 0.9741 - accuracy: 0.5691 - val_loss: 6.7997 - val_accuracy: 0.2539\n",
      "Epoch 251/300\n",
      "35004/35004 [==============================] - 3s 72us/step - loss: 0.9643 - accuracy: 0.5711 - val_loss: 6.7987 - val_accuracy: 0.2540\n",
      "Epoch 252/300\n",
      "35004/35004 [==============================] - 3s 73us/step - loss: 0.9631 - accuracy: 0.5709 - val_loss: 7.0299 - val_accuracy: 0.2519\n",
      "Epoch 253/300\n",
      "35004/35004 [==============================] - 3s 73us/step - loss: 0.9695 - accuracy: 0.5683 - val_loss: 7.0587 - val_accuracy: 0.2527\n",
      "Epoch 254/300\n",
      "35004/35004 [==============================] - 2s 71us/step - loss: 0.9682 - accuracy: 0.5705 - val_loss: 7.0813 - val_accuracy: 0.2583\n",
      "Epoch 255/300\n",
      "35004/35004 [==============================] - 2s 71us/step - loss: 0.9670 - accuracy: 0.5695 - val_loss: 6.8687 - val_accuracy: 0.2566\n",
      "Epoch 256/300\n",
      "35004/35004 [==============================] - 2s 71us/step - loss: 0.9605 - accuracy: 0.5721 - val_loss: 7.1618 - val_accuracy: 0.2548\n",
      "Epoch 257/300\n",
      "35004/35004 [==============================] - 3s 72us/step - loss: 0.9640 - accuracy: 0.5741 - val_loss: 6.9890 - val_accuracy: 0.2578\n",
      "Epoch 258/300\n",
      "35004/35004 [==============================] - 3s 73us/step - loss: 0.9626 - accuracy: 0.5731 - val_loss: 7.0777 - val_accuracy: 0.2571\n",
      "Epoch 259/300\n",
      "35004/35004 [==============================] - 3s 73us/step - loss: 0.9589 - accuracy: 0.5735 - val_loss: 7.0692 - val_accuracy: 0.2598\n",
      "Epoch 260/300\n",
      "35004/35004 [==============================] - 2s 71us/step - loss: 0.9654 - accuracy: 0.5702 - val_loss: 7.2563 - val_accuracy: 0.2550\n",
      "Epoch 261/300\n",
      "35004/35004 [==============================] - 2s 71us/step - loss: 0.9670 - accuracy: 0.5701 - val_loss: 7.1218 - val_accuracy: 0.2563\n",
      "Epoch 262/300\n",
      "35004/35004 [==============================] - 2s 70us/step - loss: 0.9638 - accuracy: 0.5725 - val_loss: 7.1468 - val_accuracy: 0.2556\n",
      "Epoch 263/300\n",
      "35004/35004 [==============================] - 2s 69us/step - loss: 0.9663 - accuracy: 0.5706 - val_loss: 7.3942 - val_accuracy: 0.2588\n",
      "Epoch 264/300\n",
      "35004/35004 [==============================] - 2s 70us/step - loss: 0.9635 - accuracy: 0.5728 - val_loss: 7.2044 - val_accuracy: 0.2570\n",
      "Epoch 265/300\n",
      "35004/35004 [==============================] - 3s 72us/step - loss: 0.9637 - accuracy: 0.5720 - val_loss: 7.0222 - val_accuracy: 0.2536\n",
      "Epoch 266/300\n",
      "35004/35004 [==============================] - 3s 71us/step - loss: 0.9559 - accuracy: 0.5739 - val_loss: 6.9948 - val_accuracy: 0.2588\n",
      "Epoch 267/300\n",
      "35004/35004 [==============================] - 3s 72us/step - loss: 0.9573 - accuracy: 0.5727 - val_loss: 7.1735 - val_accuracy: 0.2571\n",
      "Epoch 268/300\n",
      "35004/35004 [==============================] - 3s 74us/step - loss: 0.9594 - accuracy: 0.5724 - val_loss: 7.2049 - val_accuracy: 0.2550\n",
      "Epoch 269/300\n",
      "35004/35004 [==============================] - 3s 75us/step - loss: 0.9610 - accuracy: 0.5733 - val_loss: 7.3784 - val_accuracy: 0.2555\n",
      "Epoch 270/300\n",
      "35004/35004 [==============================] - 3s 73us/step - loss: 0.9621 - accuracy: 0.5724 - val_loss: 7.1091 - val_accuracy: 0.2591\n",
      "Epoch 271/300\n",
      "35004/35004 [==============================] - 3s 72us/step - loss: 0.9607 - accuracy: 0.5762 - val_loss: 7.2709 - val_accuracy: 0.2568\n",
      "Epoch 272/300\n",
      "35004/35004 [==============================] - 3s 72us/step - loss: 0.9568 - accuracy: 0.5739 - val_loss: 7.3233 - val_accuracy: 0.2560\n",
      "Epoch 273/300\n",
      "35004/35004 [==============================] - 3s 72us/step - loss: 0.9591 - accuracy: 0.5734 - val_loss: 7.2255 - val_accuracy: 0.2571\n",
      "Epoch 274/300\n"
     ]
    },
    {
     "name": "stdout",
     "output_type": "stream",
     "text": [
      "35004/35004 [==============================] - 2s 71us/step - loss: 0.9605 - accuracy: 0.5754 - val_loss: 7.5442 - val_accuracy: 0.2570\n",
      "Epoch 275/300\n",
      "35004/35004 [==============================] - 3s 72us/step - loss: 0.9606 - accuracy: 0.5730 - val_loss: 7.1258 - val_accuracy: 0.2584\n",
      "Epoch 276/300\n",
      "35004/35004 [==============================] - 3s 72us/step - loss: 0.9650 - accuracy: 0.5744 - val_loss: 7.1710 - val_accuracy: 0.2591\n",
      "Epoch 277/300\n",
      "35004/35004 [==============================] - 3s 71us/step - loss: 0.9599 - accuracy: 0.5744 - val_loss: 6.9828 - val_accuracy: 0.2536\n",
      "Epoch 278/300\n",
      "35004/35004 [==============================] - 3s 73us/step - loss: 0.9659 - accuracy: 0.5707 - val_loss: 7.0609 - val_accuracy: 0.2523\n",
      "Epoch 279/300\n",
      "35004/35004 [==============================] - 3s 75us/step - loss: 0.9558 - accuracy: 0.5758 - val_loss: 7.1680 - val_accuracy: 0.2519\n",
      "Epoch 280/300\n",
      "35004/35004 [==============================] - 3s 75us/step - loss: 0.9590 - accuracy: 0.5746 - val_loss: 7.2122 - val_accuracy: 0.2538\n",
      "Epoch 281/300\n",
      "35004/35004 [==============================] - 3s 75us/step - loss: 0.9583 - accuracy: 0.5737 - val_loss: 7.2041 - val_accuracy: 0.2532\n",
      "Epoch 282/300\n",
      "35004/35004 [==============================] - 3s 77us/step - loss: 0.9591 - accuracy: 0.5726 - val_loss: 7.3996 - val_accuracy: 0.2574\n",
      "Epoch 283/300\n",
      "35004/35004 [==============================] - 3s 76us/step - loss: 0.9602 - accuracy: 0.5733 - val_loss: 7.4293 - val_accuracy: 0.2524\n",
      "Epoch 284/300\n",
      "35004/35004 [==============================] - 3s 74us/step - loss: 0.9633 - accuracy: 0.5721 - val_loss: 7.3151 - val_accuracy: 0.2524\n",
      "Epoch 285/300\n",
      "35004/35004 [==============================] - 3s 73us/step - loss: 0.9560 - accuracy: 0.5739 - val_loss: 7.3009 - val_accuracy: 0.2518\n",
      "Epoch 286/300\n",
      "35004/35004 [==============================] - 2s 71us/step - loss: 0.9539 - accuracy: 0.5778 - val_loss: 7.6793 - val_accuracy: 0.2578\n",
      "Epoch 287/300\n",
      "35004/35004 [==============================] - 3s 72us/step - loss: 0.9589 - accuracy: 0.5752 - val_loss: 7.1951 - val_accuracy: 0.2558\n",
      "Epoch 288/300\n",
      "35004/35004 [==============================] - 3s 84us/step - loss: 0.9600 - accuracy: 0.5726 - val_loss: 7.5909 - val_accuracy: 0.2566\n",
      "Epoch 289/300\n",
      "35004/35004 [==============================] - 3s 95us/step - loss: 0.9605 - accuracy: 0.5741 - val_loss: 7.5427 - val_accuracy: 0.2538\n",
      "Epoch 290/300\n",
      "35004/35004 [==============================] - 3s 96us/step - loss: 0.9591 - accuracy: 0.5725 - val_loss: 7.4254 - val_accuracy: 0.2531\n",
      "Epoch 291/300\n",
      "35004/35004 [==============================] - 3s 96us/step - loss: 0.9586 - accuracy: 0.5768 - val_loss: 7.7023 - val_accuracy: 0.2543\n",
      "Epoch 292/300\n",
      "35004/35004 [==============================] - 3s 77us/step - loss: 0.9591 - accuracy: 0.5754 - val_loss: 7.6213 - val_accuracy: 0.2568\n",
      "Epoch 293/300\n",
      "35004/35004 [==============================] - 3s 75us/step - loss: 0.9545 - accuracy: 0.5760 - val_loss: 7.4097 - val_accuracy: 0.2528\n",
      "Epoch 294/300\n",
      "35004/35004 [==============================] - 3s 75us/step - loss: 0.9560 - accuracy: 0.5769 - val_loss: 7.5195 - val_accuracy: 0.2559\n",
      "Epoch 295/300\n",
      "35004/35004 [==============================] - 3s 73us/step - loss: 0.9582 - accuracy: 0.5734 - val_loss: 7.5415 - val_accuracy: 0.2555\n",
      "Epoch 296/300\n",
      "35004/35004 [==============================] - 3s 73us/step - loss: 0.9563 - accuracy: 0.5738 - val_loss: 7.7477 - val_accuracy: 0.2552\n",
      "Epoch 297/300\n",
      "35004/35004 [==============================] - 3s 75us/step - loss: 0.9593 - accuracy: 0.5726 - val_loss: 7.5010 - val_accuracy: 0.2546\n",
      "Epoch 298/300\n",
      "35004/35004 [==============================] - 2s 69us/step - loss: 0.9569 - accuracy: 0.5748 - val_loss: 7.6130 - val_accuracy: 0.2542\n",
      "Epoch 299/300\n",
      "35004/35004 [==============================] - 2s 67us/step - loss: 0.9540 - accuracy: 0.5779 - val_loss: 7.5081 - val_accuracy: 0.2550\n",
      "Epoch 300/300\n",
      "35004/35004 [==============================] - 2s 65us/step - loss: 0.9504 - accuracy: 0.5760 - val_loss: 7.6047 - val_accuracy: 0.2535\n"
     ]
    }
   ],
   "source": [
    "from keras.callbacks import ModelCheckpoint\n",
    "file_name = 'weight.hdf5'\n",
    "mcp_save = ModelCheckpoint(file_name, save_best_only=True, monitor='val_loss', mode='min')   \n",
    "history = model.fit(X_train_pad, y_train, epochs=300, validation_data=(X_dev_pad, y_dev), callbacks=[mcp_save], batch_size=100)"
   ]
  },
  {
   "cell_type": "code",
   "execution_count": null,
   "metadata": {},
   "outputs": [],
   "source": []
  }
 ],
 "metadata": {
  "kernelspec": {
   "display_name": "Python 3",
   "language": "python",
   "name": "python3"
  },
  "language_info": {
   "codemirror_mode": {
    "name": "ipython",
    "version": 3
   },
   "file_extension": ".py",
   "mimetype": "text/x-python",
   "name": "python",
   "nbconvert_exporter": "python",
   "pygments_lexer": "ipython3",
   "version": "3.7.7"
  }
 },
 "nbformat": 4,
 "nbformat_minor": 4
}
